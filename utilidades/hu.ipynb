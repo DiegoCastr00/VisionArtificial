{
 "cells": [
  {
   "cell_type": "code",
   "execution_count": 9,
   "metadata": {},
   "outputs": [
    {
     "data": {
      "text/html": [
       "<div>\n",
       "<style scoped>\n",
       "    .dataframe tbody tr th:only-of-type {\n",
       "        vertical-align: middle;\n",
       "    }\n",
       "\n",
       "    .dataframe tbody tr th {\n",
       "        vertical-align: top;\n",
       "    }\n",
       "\n",
       "    .dataframe thead th {\n",
       "        text-align: right;\n",
       "    }\n",
       "</style>\n",
       "<table border=\"1\" class=\"dataframe\">\n",
       "  <thead>\n",
       "    <tr style=\"text-align: right;\">\n",
       "      <th></th>\n",
       "      <th>Hu_0</th>\n",
       "      <th>Hu_1</th>\n",
       "      <th>Hu_2</th>\n",
       "      <th>Hu_3</th>\n",
       "      <th>Hu_4</th>\n",
       "      <th>Hu_5</th>\n",
       "      <th>Hu_6</th>\n",
       "      <th>Label</th>\n",
       "    </tr>\n",
       "  </thead>\n",
       "  <tbody>\n",
       "    <tr>\n",
       "      <th>0</th>\n",
       "      <td>0.002180</td>\n",
       "      <td>1.930745e-06</td>\n",
       "      <td>0.000102</td>\n",
       "      <td>8.135358e-06</td>\n",
       "      <td>-1.687374e-10</td>\n",
       "      <td>-8.358658e-09</td>\n",
       "      <td>1.629089e-10</td>\n",
       "      <td>2</td>\n",
       "    </tr>\n",
       "    <tr>\n",
       "      <th>1</th>\n",
       "      <td>0.003539</td>\n",
       "      <td>2.297844e-05</td>\n",
       "      <td>0.000010</td>\n",
       "      <td>9.385714e-06</td>\n",
       "      <td>9.293682e-11</td>\n",
       "      <td>3.234668e-08</td>\n",
       "      <td>-4.511463e-13</td>\n",
       "      <td>1</td>\n",
       "    </tr>\n",
       "    <tr>\n",
       "      <th>2</th>\n",
       "      <td>0.001222</td>\n",
       "      <td>1.434788e-07</td>\n",
       "      <td>0.000003</td>\n",
       "      <td>2.905743e-08</td>\n",
       "      <td>-3.926097e-15</td>\n",
       "      <td>-5.627820e-12</td>\n",
       "      <td>7.587145e-15</td>\n",
       "      <td>0</td>\n",
       "    </tr>\n",
       "    <tr>\n",
       "      <th>3</th>\n",
       "      <td>0.002160</td>\n",
       "      <td>3.841611e-07</td>\n",
       "      <td>0.000039</td>\n",
       "      <td>4.155433e-06</td>\n",
       "      <td>-5.308638e-11</td>\n",
       "      <td>1.194836e-09</td>\n",
       "      <td>-4.736904e-13</td>\n",
       "      <td>4</td>\n",
       "    </tr>\n",
       "    <tr>\n",
       "      <th>4</th>\n",
       "      <td>0.002373</td>\n",
       "      <td>1.018005e-05</td>\n",
       "      <td>0.000002</td>\n",
       "      <td>8.681672e-07</td>\n",
       "      <td>1.053605e-12</td>\n",
       "      <td>1.449972e-09</td>\n",
       "      <td>2.619669e-13</td>\n",
       "      <td>1</td>\n",
       "    </tr>\n",
       "    <tr>\n",
       "      <th>...</th>\n",
       "      <td>...</td>\n",
       "      <td>...</td>\n",
       "      <td>...</td>\n",
       "      <td>...</td>\n",
       "      <td>...</td>\n",
       "      <td>...</td>\n",
       "      <td>...</td>\n",
       "      <td>...</td>\n",
       "    </tr>\n",
       "    <tr>\n",
       "      <th>995</th>\n",
       "      <td>0.001842</td>\n",
       "      <td>6.614155e-07</td>\n",
       "      <td>0.000089</td>\n",
       "      <td>5.954254e-06</td>\n",
       "      <td>1.053929e-10</td>\n",
       "      <td>3.905787e-09</td>\n",
       "      <td>-8.707985e-11</td>\n",
       "      <td>2</td>\n",
       "    </tr>\n",
       "    <tr>\n",
       "      <th>996</th>\n",
       "      <td>0.001376</td>\n",
       "      <td>1.148524e-06</td>\n",
       "      <td>0.000001</td>\n",
       "      <td>2.444893e-07</td>\n",
       "      <td>-1.341333e-13</td>\n",
       "      <td>6.453674e-11</td>\n",
       "      <td>-5.424432e-14</td>\n",
       "      <td>0</td>\n",
       "    </tr>\n",
       "    <tr>\n",
       "      <th>997</th>\n",
       "      <td>0.000821</td>\n",
       "      <td>1.089006e-08</td>\n",
       "      <td>0.000005</td>\n",
       "      <td>2.411306e-08</td>\n",
       "      <td>3.170006e-15</td>\n",
       "      <td>1.301528e-12</td>\n",
       "      <td>-7.699109e-15</td>\n",
       "      <td>8</td>\n",
       "    </tr>\n",
       "    <tr>\n",
       "      <th>998</th>\n",
       "      <td>0.002019</td>\n",
       "      <td>1.799354e-06</td>\n",
       "      <td>0.000018</td>\n",
       "      <td>1.944950e-06</td>\n",
       "      <td>-1.047648e-11</td>\n",
       "      <td>-1.045181e-09</td>\n",
       "      <td>-4.990158e-12</td>\n",
       "      <td>9</td>\n",
       "    </tr>\n",
       "    <tr>\n",
       "      <th>999</th>\n",
       "      <td>0.001573</td>\n",
       "      <td>3.233774e-06</td>\n",
       "      <td>0.000040</td>\n",
       "      <td>2.468677e-05</td>\n",
       "      <td>7.656535e-10</td>\n",
       "      <td>2.784087e-08</td>\n",
       "      <td>-1.053757e-10</td>\n",
       "      <td>9</td>\n",
       "    </tr>\n",
       "  </tbody>\n",
       "</table>\n",
       "<p>1000 rows × 8 columns</p>\n",
       "</div>"
      ],
      "text/plain": [
       "         Hu_0          Hu_1      Hu_2          Hu_3          Hu_4  \\\n",
       "0    0.002180  1.930745e-06  0.000102  8.135358e-06 -1.687374e-10   \n",
       "1    0.003539  2.297844e-05  0.000010  9.385714e-06  9.293682e-11   \n",
       "2    0.001222  1.434788e-07  0.000003  2.905743e-08 -3.926097e-15   \n",
       "3    0.002160  3.841611e-07  0.000039  4.155433e-06 -5.308638e-11   \n",
       "4    0.002373  1.018005e-05  0.000002  8.681672e-07  1.053605e-12   \n",
       "..        ...           ...       ...           ...           ...   \n",
       "995  0.001842  6.614155e-07  0.000089  5.954254e-06  1.053929e-10   \n",
       "996  0.001376  1.148524e-06  0.000001  2.444893e-07 -1.341333e-13   \n",
       "997  0.000821  1.089006e-08  0.000005  2.411306e-08  3.170006e-15   \n",
       "998  0.002019  1.799354e-06  0.000018  1.944950e-06 -1.047648e-11   \n",
       "999  0.001573  3.233774e-06  0.000040  2.468677e-05  7.656535e-10   \n",
       "\n",
       "             Hu_5          Hu_6  Label  \n",
       "0   -8.358658e-09  1.629089e-10      2  \n",
       "1    3.234668e-08 -4.511463e-13      1  \n",
       "2   -5.627820e-12  7.587145e-15      0  \n",
       "3    1.194836e-09 -4.736904e-13      4  \n",
       "4    1.449972e-09  2.619669e-13      1  \n",
       "..            ...           ...    ...  \n",
       "995  3.905787e-09 -8.707985e-11      2  \n",
       "996  6.453674e-11 -5.424432e-14      0  \n",
       "997  1.301528e-12 -7.699109e-15      8  \n",
       "998 -1.045181e-09 -4.990158e-12      9  \n",
       "999  2.784087e-08 -1.053757e-10      9  \n",
       "\n",
       "[1000 rows x 8 columns]"
      ]
     },
     "execution_count": 9,
     "metadata": {},
     "output_type": "execute_result"
    }
   ],
   "source": [
    "import numpy as np\n",
    "from Nmist import loadDataset\n",
    "from boundaries import hu\n",
    "import pandas as pd\n",
    "\n",
    "x,y=loadDataset(\"Nmist/mnist_test.csv\",1000)\n",
    "data = []\n",
    "for i in range(len(x)):\n",
    "    digit_pixels = x[i].reshape(28, 28)\n",
    "    digit_pixels = digit_pixels.astype(np.uint8)\n",
    "    features = hu(digit_pixels)\n",
    "    label = y[i]\n",
    "    data.append(list(features) + [label])\n",
    "columns = [f'Hu_{i}' for i in range(len(features))] + ['Label']\n",
    "df = pd.DataFrame(data, columns=columns)\n",
    "df"
   ]
  },
  {
   "cell_type": "code",
   "execution_count": 3,
   "metadata": {},
   "outputs": [
    {
     "name": "stdout",
     "output_type": "stream",
     "text": [
      "Precisión del modelo: 0.25\n",
      "              precision    recall  f1-score   support\n",
      "\n",
      "           0       0.22      0.38      0.28        13\n",
      "           1       0.53      0.74      0.62        23\n",
      "           2       0.11      0.12      0.12        24\n",
      "           3       0.17      0.21      0.19        19\n",
      "           4       0.08      0.08      0.08        25\n",
      "           5       0.09      0.06      0.07        18\n",
      "           6       0.31      0.25      0.28        20\n",
      "           7       0.53      0.32      0.40        25\n",
      "           8       0.14      0.07      0.10        14\n",
      "           9       0.19      0.21      0.20        19\n",
      "\n",
      "    accuracy                           0.25       200\n",
      "   macro avg       0.24      0.24      0.23       200\n",
      "weighted avg       0.25      0.25      0.24       200\n",
      "\n"
     ]
    }
   ],
   "source": [
    "from clasificadores import knn\n",
    "\n",
    "knn(df,5)"
   ]
  },
  {
   "cell_type": "code",
   "execution_count": 4,
   "metadata": {},
   "outputs": [
    {
     "name": "stdout",
     "output_type": "stream",
     "text": [
      "Classifying...\n",
      "Classification done!\n",
      "----------------------------------------------------------------------\n",
      "SUMARY: Summary\n",
      "----------------------------------------------------------------------\n",
      "CLASSIF\t\tMEAN\tMEDIAN\tMINV\tMAXV\tSTD\n",
      "----------------------------------------------------------------------\n",
      "SVM_linear      45.8\t45.5\t39.0\t53.0\t3.06\n",
      "----------------------------------------------------------------------\n",
      "\n"
     ]
    }
   ],
   "source": [
    "from clasificadores import svm_lineal\n",
    "\n",
    "svm_lineal(df)"
   ]
  },
  {
   "cell_type": "code",
   "execution_count": 5,
   "metadata": {},
   "outputs": [
    {
     "name": "stdout",
     "output_type": "stream",
     "text": [
      "Classifying...\n",
      "Classification done!\n",
      "----------------------------------------------------------------------\n",
      "SUMARY: Summary\n",
      "----------------------------------------------------------------------\n",
      "CLASSIF\t\tMEAN\tMEDIAN\tMINV\tMAXV\tSTD\n",
      "----------------------------------------------------------------------\n",
      "SVM_radial      41.62\t41.5\t34.5\t50.5\t3.32\n",
      "----------------------------------------------------------------------\n",
      "\n"
     ]
    }
   ],
   "source": [
    "from clasificadores import svm_radial\n",
    "\n",
    "svm_radial(df)"
   ]
  },
  {
   "cell_type": "code",
   "execution_count": 6,
   "metadata": {},
   "outputs": [
    {
     "data": {
      "image/png": "[encoded data removed]",
      "text/plain": [
       "<Figure size 640x480 with 1 Axes>"
      ]
     },
     "metadata": {},
     "output_type": "display_data"
    },
    {
     "name": "stdout",
     "output_type": "stream",
     "text": [
      "phi1 = 0.0013091101126899948\n",
      "phi2 = 1.0531521485032426e-06\n",
      "phi3 = 2.064275928475835e-06\n",
      "phi4 = 5.844551279791741e-07\n",
      "phi5 = -9.922683389481394e-14\n",
      "phi6 = -3.042106958072106e-10\n",
      "phi7 = -6.342489547911485e-13\n"
     ]
    }
   ],
   "source": [
    "\n",
    "from Nmist import loadDataset\n",
    "import matplotlib.pyplot as plt\n",
    "import numpy as np\n",
    "\n",
    "x,y=loadDataset(\"Nmist/mnist_test.csv\",1000)\n",
    "angulo_rotacion = 268\n",
    "digit = x[50]\n",
    "label = y[50]\n",
    "digit_pixels = digit.reshape(28, 28)\n",
    "digit_pixels = digit_pixels.astype(np.uint8)\n",
    "plt.imshow(digit_pixels, cmap='gray')\n",
    "plt.show()\n",
    "from boundaries import hu\n",
    "phi1, phi2, phi3, phi4, phi5, phi6, phi7 = hu(digit_pixels)\n",
    "print(f'phi1 = {phi1}')\n",
    "print(f'phi2 = {phi2}')\n",
    "print(f'phi3 = {phi3}')\n",
    "print(f'phi4 = {phi4}')\n",
    "print(f'phi5 = {phi5}')\n",
    "print(f'phi6 = {phi6}')\n",
    "print(f'phi7 = {phi7}')\n",
    "\n"
   ]
  },
  {
   "cell_type": "code",
   "execution_count": 7,
   "metadata": {},
   "outputs": [
    {
     "data": {
      "image/png": "[encoded data removed]",
      "text/plain": [
       "<Figure size 640x480 with 1 Axes>"
      ]
     },
     "metadata": {},
     "output_type": "display_data"
    },
    {
     "name": "stdout",
     "output_type": "stream",
     "text": [
      "phi1 = 0.001314804416120441\n",
      "phi2 = 1.0242498012813132e-06\n",
      "phi3 = 2.0351753192739063e-06\n",
      "phi4 = 5.872550454864495e-07\n",
      "phi5 = -8.817918770324457e-14\n",
      "phi6 = -3.050566089954373e-10\n",
      "phi7 = -6.359244128533811e-13\n"
     ]
    }
   ],
   "source": [
    "from general import rotar\n",
    "img = rotar(digit_pixels, angulo_rotacion)\n",
    "plt.imshow(img, cmap='gray')\n",
    "plt.show()\n",
    "phi1, phi2, phi3, phi4, phi5, phi6, phi7 = hu(img)\n",
    "print(f'phi1 = {phi1}')\n",
    "print(f'phi2 = {phi2}')\n",
    "print(f'phi3 = {phi3}')\n",
    "print(f'phi4 = {phi4}')\n",
    "print(f'phi5 = {phi5}')\n",
    "print(f'phi6 = {phi6}')\n",
    "print(f'phi7 = {phi7}')"
   ]
  },
  {
   "cell_type": "code",
   "execution_count": 8,
   "metadata": {},
   "outputs": [
    {
     "data": {
      "image/png": "[encoded data removed]",
      "text/plain": [
       "<Figure size 640x480 with 1 Axes>"
      ]
     },
     "metadata": {},
     "output_type": "display_data"
    },
    {
     "name": "stdout",
     "output_type": "stream",
     "text": [
      "phi1 = 0.001314804416120441\n",
      "phi2 = 1.0242498012813132e-06\n",
      "phi3 = 2.0351753192739063e-06\n",
      "phi4 = 5.872550454864495e-07\n",
      "phi5 = -8.817918770324457e-14\n",
      "phi6 = -3.050566089954373e-10\n",
      "phi7 = -6.359244128533811e-13\n"
     ]
    }
   ],
   "source": [
    "from general import escala\n",
    "escala = escala(digit_pixels, 2)\n",
    "plt.imshow(escala, cmap='gray')\n",
    "plt.show()\n",
    "phi1, phi2, phi3, phi4, phi5, phi6, phi7 = hu(img)\n",
    "print(f'phi1 = {phi1}')\n",
    "print(f'phi2 = {phi2}')\n",
    "print(f'phi3 = {phi3}')\n",
    "print(f'phi4 = {phi4}')\n",
    "print(f'phi5 = {phi5}')\n",
    "print(f'phi6 = {phi6}')\n",
    "print(f'phi7 = {phi7}')"
   ]
  }
 ],
 "metadata": {
  "kernelspec": {
   "display_name": "Python 3",
   "language": "python",
   "name": "python3"
  },
  "language_info": {
   "codemirror_mode": {
    "name": "ipython",
    "version": 3
   },
   "file_extension": ".py",
   "mimetype": "text/x-python",
   "name": "python",
   "nbconvert_exporter": "python",
   "pygments_lexer": "ipython3",
   "version": "3.10.10"
  }
 },
 "nbformat": 4,
 "nbformat_minor": 2
}
