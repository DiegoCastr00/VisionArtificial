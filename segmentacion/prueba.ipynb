{
 "cells": [
  {
   "cell_type": "code",
   "execution_count": 11,
   "metadata": {},
   "outputs": [
    {
     "ename": "TypeError",
     "evalue": "'module' object is not callable",
     "output_type": "error",
     "traceback": [
      "\u001b[1;31m---------------------------------------------------------------------------\u001b[0m",
      "\u001b[1;31mTypeError\u001b[0m                                 Traceback (most recent call last)",
      "\u001b[1;32mc:\\Descargas\\Vision artificial\\Vision Artificial\\segmentacion\\prueba.ipynb Celda 1\u001b[0m line \u001b[0;36m8\n\u001b[0;32m      <a href='vscode-notebook-cell:/c%3A/Descargas/Vision%20artificial/Vision%20Artificial/segmentacion/prueba.ipynb#W0sZmlsZQ%3D%3D?line=5'>6</a>\u001b[0m imagen \u001b[39m=\u001b[39m cv2\u001b[39m.\u001b[39mimread(\u001b[39m'\u001b[39m\u001b[39mejemplo.jpeg\u001b[39m\u001b[39m'\u001b[39m)\n\u001b[0;32m      <a href='vscode-notebook-cell:/c%3A/Descargas/Vision%20artificial/Vision%20Artificial/segmentacion/prueba.ipynb#W0sZmlsZQ%3D%3D?line=6'>7</a>\u001b[0m img \u001b[39m=\u001b[39m np\u001b[39m.\u001b[39marray(imagen)\n\u001b[1;32m----> <a href='vscode-notebook-cell:/c%3A/Descargas/Vision%20artificial/Vision%20Artificial/segmentacion/prueba.ipynb#W0sZmlsZQ%3D%3D?line=7'>8</a>\u001b[0m Otsu\u001b[39m=\u001b[39m ot\u001b[39m.\u001b[39;49mthresholdOtsu(img)\n\u001b[0;32m     <a href='vscode-notebook-cell:/c%3A/Descargas/Vision%20artificial/Vision%20Artificial/segmentacion/prueba.ipynb#W0sZmlsZQ%3D%3D?line=9'>10</a>\u001b[0m plt\u001b[39m.\u001b[39mimshow(Otsu, cmap\u001b[39m=\u001b[39m\u001b[39m'\u001b[39m\u001b[39mgray\u001b[39m\u001b[39m'\u001b[39m)\n",
      "File \u001b[1;32mc:\\Descargas\\Vision artificial\\Vision Artificial\\segmentacion\\otsu.py:54\u001b[0m, in \u001b[0;36mthresholdOtsu\u001b[1;34m(img)\u001b[0m\n\u001b[0;32m     51\u001b[0m     WCV \u001b[39m=\u001b[39m (w_b\u001b[39m*\u001b[39mv_b)\u001b[39m+\u001b[39m(w_f\u001b[39m*\u001b[39mv_f)\n\u001b[0;32m     52\u001b[0m     WCVList\u001b[39m.\u001b[39mappend(WCV)\n\u001b[1;32m---> 54\u001b[0m t \u001b[39m=\u001b[39m WCVList\u001b[39m.\u001b[39mindex(\u001b[39mmin\u001b[39m(WCVList))\n\u001b[0;32m     55\u001b[0m imagen \u001b[39m=\u001b[39m thresholding(img,t)\n\u001b[0;32m     56\u001b[0m \u001b[39mreturn\u001b[39;00m imagen\n",
      "\u001b[1;31mTypeError\u001b[0m: 'module' object is not callable"
     ]
    }
   ],
   "source": [
    "import cv2\n",
    "import numpy as np\n",
    "import matplotlib.pyplot as plt\n",
    "import thresholding as th\n",
    "\n",
    "def rgb2gray(rgb):\n",
    "    return np.dot(rgb[..., :3], [0.299, 0.587, 0.114]).astype(np.uint8)\n",
    "\n",
    "def thresholdOtsu(img): #min(weightB*VarianceB + weightF*VarianceF)\n",
    "    img = rgb2gray(img)\n",
    "    hist = np.zeros(256)\n",
    "    for row in range(img.shape[0]):\n",
    "        for column in range(img.shape[1]):\n",
    "            hist[img[row][column]] += 1\n",
    "    \n",
    "    pixelesInImg = img.shape[0]*img.shape[1]\n",
    "    WCVList = []\n",
    "\n",
    "    #Algorithm\n",
    "    for threshold in range(len(hist)):\n",
    "        #b where hist < threshold\n",
    "        b = hist[:threshold]\n",
    "        #Weight b\n",
    "        w_b = sum(b)/(pixelesInImg)\n",
    "        #Mean b\n",
    "        m = 0\n",
    "        for i in range(threshold):\n",
    "            m += (i*hist[i])\n",
    "        if(sum(b)==0):\n",
    "            m_b = 0\n",
    "        else:\n",
    "            m_b = m/sum(b)\n",
    "        #Variance b\n",
    "        v = 0\n",
    "        for i in range(threshold):\n",
    "            v += ((i-m_b)**2) * hist[i]\n",
    "        if(sum(b)==0):\n",
    "            v_b = 0\n",
    "        else:\n",
    "            v_b = v/sum(b)\n",
    "\n",
    "        #f where hist >= threshold\n",
    "        f = hist[threshold:]\n",
    "        #Weight f\n",
    "        w_f = sum(f)/(pixelesInImg)\n",
    "        #Mean f\n",
    "        m = 0\n",
    "        for i in range(threshold, len(hist)):\n",
    "            m += (i*hist[i])\n",
    "        m_f = m/sum(f)\n",
    "        #Variance f\n",
    "        v = 0\n",
    "        for i in range(threshold, len(hist)):\n",
    "            v += ((i-m_f)**2) * hist[i]\n",
    "        v_f = v/sum(f)\n",
    "        #Within_class_variance\n",
    "        WCV = (w_b*v_b)+(w_f*v_f)\n",
    "        WCVList.append(WCV)\n",
    "        \n",
    "    t = WCVList.index(min(WCVList))\n",
    "    imagen = th.thresholding(img,t)\n",
    "    return imagen #The rigth thresholda"
   ]
  }
 ],
 "metadata": {
  "kernelspec": {
   "display_name": "Python 3",
   "language": "python",
   "name": "python3"
  },
  "language_info": {
   "codemirror_mode": {
    "name": "ipython",
    "version": 3
   },
   "file_extension": ".py",
   "mimetype": "text/x-python",
   "name": "python",
   "nbconvert_exporter": "python",
   "pygments_lexer": "ipython3",
   "version": "3.10.10"
  },
  "orig_nbformat": 4
 },
 "nbformat": 4,
 "nbformat_minor": 2
}
