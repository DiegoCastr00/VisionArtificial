{
 "cells": [
  {
   "cell_type": "code",
   "execution_count": 1,
   "metadata": {},
   "outputs": [
    {
     "ename": "ModuleNotFoundError",
     "evalue": "No module named 'cv2'",
     "output_type": "error",
     "traceback": [
      "\u001b[1;31m---------------------------------------------------------------------------\u001b[0m",
      "\u001b[1;31mModuleNotFoundError\u001b[0m                       Traceback (most recent call last)",
      "\u001b[1;32md:\\Repositorios\\VisionArtificial\\Practica1-4.ipynb Celda 1\u001b[0m line \u001b[0;36m2\n\u001b[0;32m      <a href='vscode-notebook-cell:/d%3A/Repositorios/VisionArtificial/Practica1-4.ipynb#W0sZmlsZQ%3D%3D?line=0'>1</a>\u001b[0m \u001b[39mimport\u001b[39;00m \u001b[39mnumpy\u001b[39;00m \u001b[39mas\u001b[39;00m \u001b[39mnp\u001b[39;00m \n\u001b[1;32m----> <a href='vscode-notebook-cell:/d%3A/Repositorios/VisionArtificial/Practica1-4.ipynb#W0sZmlsZQ%3D%3D?line=1'>2</a>\u001b[0m \u001b[39mfrom\u001b[39;00m \u001b[39msegmentacion\u001b[39;00m\u001b[39m.\u001b[39;00m\u001b[39mglobalT\u001b[39;00m \u001b[39mimport\u001b[39;00m thresholdingGlobal\n",
      "File \u001b[1;32md:\\Repositorios\\VisionArtificial\\segmentacion\\__init__.py:2\u001b[0m\n\u001b[0;32m      1\u001b[0m \u001b[39mfrom\u001b[39;00m \u001b[39m.\u001b[39;00m\u001b[39mbernsen\u001b[39;00m \u001b[39mimport\u001b[39;00m Bernsen\n\u001b[1;32m----> 2\u001b[0m \u001b[39mfrom\u001b[39;00m \u001b[39m.\u001b[39;00m\u001b[39mglobalT\u001b[39;00m \u001b[39mimport\u001b[39;00m thresholdingGlobal\n\u001b[0;32m      3\u001b[0m \u001b[39mfrom\u001b[39;00m \u001b[39m.\u001b[39;00m\u001b[39motsu\u001b[39;00m \u001b[39mimport\u001b[39;00m thresholdOtsu\n\u001b[0;32m      4\u001b[0m \u001b[39mfrom\u001b[39;00m \u001b[39m.\u001b[39;00m\u001b[39mthresholding\u001b[39;00m \u001b[39mimport\u001b[39;00m thresholding\n",
      "File \u001b[1;32md:\\Repositorios\\VisionArtificial\\segmentacion\\globalT.py:27\u001b[0m\n\u001b[0;32m     23\u001b[0m \u001b[39mdef\u001b[39;00m \u001b[39mrgb2gray\u001b[39m(rgb):\n\u001b[0;32m     24\u001b[0m     \u001b[39mreturn\u001b[39;00m np\u001b[39m.\u001b[39mdot(rgb[\u001b[39m.\u001b[39m\u001b[39m.\u001b[39m\u001b[39m.\u001b[39m, :\u001b[39m3\u001b[39m], [\u001b[39m0.299\u001b[39m, \u001b[39m0.587\u001b[39m, \u001b[39m0.114\u001b[39m])\u001b[39m.\u001b[39mastype(np\u001b[39m.\u001b[39muint8)\n\u001b[1;32m---> 27\u001b[0m \u001b[39mimport\u001b[39;00m \u001b[39mcv2\u001b[39;00m\n\u001b[0;32m     28\u001b[0m imagen \u001b[39m=\u001b[39m cv2\u001b[39m.\u001b[39mimread(\u001b[39m'\u001b[39m\u001b[39mrain.jpg\u001b[39m\u001b[39m'\u001b[39m)\n\u001b[0;32m     29\u001b[0m img \u001b[39m=\u001b[39m np\u001b[39m.\u001b[39marray(imagen)\n",
      "\u001b[1;31mModuleNotFoundError\u001b[0m: No module named 'cv2'"
     ]
    }
   ],
   "source": [
    "import numpy as np \n",
    "from segmentacion.globalT import thresholdingGlobal"
   ]
  },
  {
   "cell_type": "code",
   "execution_count": null,
   "metadata": {},
   "outputs": [
    {
     "ename": "ModuleNotFoundError",
     "evalue": "No module named 'cv2'",
     "output_type": "error",
     "traceback": [
      "\u001b[1;31m---------------------------------------------------------------------------\u001b[0m",
      "\u001b[1;31mModuleNotFoundError\u001b[0m                       Traceback (most recent call last)",
      "\u001b[1;32md:\\Repositorios\\VisionArtificial\\Practica1-4.ipynb Celda 2\u001b[0m line \u001b[0;36m4\n\u001b[0;32m      <a href='vscode-notebook-cell:/d%3A/Repositorios/VisionArtificial/Practica1-4.ipynb#W1sZmlsZQ%3D%3D?line=0'>1</a>\u001b[0m \u001b[39mdef\u001b[39;00m \u001b[39mrgb2gray\u001b[39m(rgb):\n\u001b[0;32m      <a href='vscode-notebook-cell:/d%3A/Repositorios/VisionArtificial/Practica1-4.ipynb#W1sZmlsZQ%3D%3D?line=1'>2</a>\u001b[0m     \u001b[39mreturn\u001b[39;00m np\u001b[39m.\u001b[39mdot(rgb[\u001b[39m.\u001b[39m\u001b[39m.\u001b[39m\u001b[39m.\u001b[39m, :\u001b[39m3\u001b[39m], [\u001b[39m0.299\u001b[39m, \u001b[39m0.587\u001b[39m, \u001b[39m0.114\u001b[39m])\u001b[39m.\u001b[39mastype(np\u001b[39m.\u001b[39muint8)\n\u001b[1;32m----> <a href='vscode-notebook-cell:/d%3A/Repositorios/VisionArtificial/Practica1-4.ipynb#W1sZmlsZQ%3D%3D?line=3'>4</a>\u001b[0m \u001b[39mimport\u001b[39;00m \u001b[39mcv2\u001b[39;00m\n\u001b[0;32m      <a href='vscode-notebook-cell:/d%3A/Repositorios/VisionArtificial/Practica1-4.ipynb#W1sZmlsZQ%3D%3D?line=4'>5</a>\u001b[0m imagen \u001b[39m=\u001b[39m cv2\u001b[39m.\u001b[39mimread(\u001b[39m'\u001b[39m\u001b[39mrain.jpg\u001b[39m\u001b[39m'\u001b[39m)\n\u001b[0;32m      <a href='vscode-notebook-cell:/d%3A/Repositorios/VisionArtificial/Practica1-4.ipynb#W1sZmlsZQ%3D%3D?line=5'>6</a>\u001b[0m img \u001b[39m=\u001b[39m np\u001b[39m.\u001b[39marray(imagen)\n",
      "\u001b[1;31mModuleNotFoundError\u001b[0m: No module named 'cv2'"
     ]
    }
   ],
   "source": [
    "def rgb2gray(rgb):\n",
    "    return np.dot(rgb[..., :3], [0.299, 0.587, 0.114]).astype(np.uint8)\n",
    "\n",
    "import cv2\n",
    "imagen = cv2.imread('rain.jpg')\n",
    "img = np.array(imagen)\n",
    "imggray= rgb2gray(img)\n",
    "Otsu = thresholdingGlobal(imggray, 160)"
   ]
  }
 ],
 "metadata": {
  "kernelspec": {
   "display_name": "Python 3",
   "language": "python",
   "name": "python3"
  },
  "language_info": {
   "codemirror_mode": {
    "name": "ipython",
    "version": 3
   },
   "file_extension": ".py",
   "mimetype": "text/x-python",
   "name": "python",
   "nbconvert_exporter": "python",
   "pygments_lexer": "ipython3",
   "version": "3.10.9"
  }
 },
 "nbformat": 4,
 "nbformat_minor": 2
}
