{
 "cells": [
  {
   "cell_type": "code",
   "execution_count": 6,
   "metadata": {},
   "outputs": [],
   "source": [
    "import cv2\n",
    "\n",
    "# Cargar las imágenes\n",
    "imagen1 = cv2.imread('prueba2.jpg')\n",
    "imagen2 = cv2.imread('prueba3.jpg')\n",
    "\n",
    "# Convertir las imágenes a escala de grises\n",
    "gris1 = cv2.cvtColor(imagen1, cv2.COLOR_BGR2GRAY)\n",
    "gris2 = cv2.cvtColor(imagen2, cv2.COLOR_BGR2GRAY)\n",
    "\n",
    "# Crear el detector SIFT\n",
    "sift = cv2.SIFT_create()\n",
    "\n",
    "# Encontrar los puntos clave y descriptores con SIFT\n",
    "puntos_clave1, descriptores1 = sift.detectAndCompute(gris1, None)\n",
    "puntos_clave2, descriptores2 = sift.detectAndCompute(gris2, None)\n",
    "\n",
    "# Crear un objeto de coincidencia de fuerza bruta\n",
    "bf = cv2.BFMatcher()\n",
    "\n",
    "# Realizar la coincidencia de descriptores\n",
    "coincidencias = bf.knnMatch(descriptores1, descriptores2, k=2)\n",
    "\n",
    "# Aplicar el filtro de Ratio Test\n",
    "buenas_coincidencias = []\n",
    "for m, n in coincidencias:\n",
    "    if m.distance < 0.6 * n.distance:\n",
    "        buenas_coincidencias.append(m)\n",
    "\n",
    "# Dibujar las coincidencias en una nueva imagen\n",
    "resultado = cv2.drawMatches(imagen1, puntos_clave1, imagen2, puntos_clave2, buenas_coincidencias, None, flags=cv2.DrawMatchesFlags_NOT_DRAW_SINGLE_POINTS)\n",
    "\n",
    "# Mostrar la imagen resultante\n",
    "cv2.imshow('Coincidencias SIFT', resultado)\n",
    "cv2.waitKey(0)\n",
    "cv2.destroyAllWindows()\n"
   ]
  }
 ],
 "metadata": {
  "kernelspec": {
   "display_name": "Python 3",
   "language": "python",
   "name": "python3"
  },
  "language_info": {
   "codemirror_mode": {
    "name": "ipython",
    "version": 3
   },
   "file_extension": ".py",
   "mimetype": "text/x-python",
   "name": "python",
   "nbconvert_exporter": "python",
   "pygments_lexer": "ipython3",
   "version": "3.10.10"
  }
 },
 "nbformat": 4,
 "nbformat_minor": 2
}
