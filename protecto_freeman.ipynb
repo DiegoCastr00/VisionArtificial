{
 "cells": [
  {
   "cell_type": "code",
   "execution_count": 78,
   "metadata": {},
   "outputs": [],
   "source": [
    "import sys\n",
    "import cv2\n",
    "import numpy as np\n",
    "import pandas as pd\n",
    "import matplotlib.pyplot as plt\n",
    "from segmentacion.globalT import thresholdingGlobal\n",
    "from bordes import minimum_circular_shift\n",
    "from formas_binarias import first_difference\n",
    "from collections import Counter\n",
    "from bordes import trace_boundary\n",
    "import numpy as np\n",
    "from morfologia import dilatacion\n",
    "from morfologia import erosion\n",
    "from sklearn.neighbors import KNeighborsClassifier\n",
    "from general import rotar\n",
    "from general import escala\n",
    "\n",
    "def loadDataset(fileName, samples):\n",
    "    x = []\n",
    "    y = []\n",
    "    train_data = pd.read_csv(fileName)\n",
    "    y = np.array(train_data.iloc[0:samples, 0])\n",
    "    x = np.array(train_data.iloc[0:samples, 1:])\n",
    "    return x,y"
   ]
  },
  {
   "cell_type": "code",
   "execution_count": 46,
   "metadata": {},
   "outputs": [
    {
     "name": "stdout",
     "output_type": "stream",
     "text": [
      "(100, 784)\n",
      "(100,)\n",
      "1\n"
     ]
    },
    {
     "data": {
      "image/png": "[encoded data removed]",
      "text/plain": [
       "<Figure size 640x480 with 1 Axes>"
      ]
     },
     "metadata": {},
     "output_type": "display_data"
    },
    {
     "data": {
      "image/png": "[encoded data removed]",
      "text/plain": [
       "<Figure size 640x480 with 1 Axes>"
      ]
     },
     "metadata": {},
     "output_type": "display_data"
    }
   ],
   "source": [
    "x,y=loadDataset(\"Nmist/mnist_test.csv\",100)\n",
    "indice = 1\n",
    "\n",
    "print(x.shape)\n",
    "print(y.shape)\n",
    "print(y[indice])\n",
    "digit = x[indice]\n",
    "\n",
    "digit_pixels = digit.reshape(28, 28)\n",
    "plt.imshow(digit_pixels, cmap='gray')\n",
    "plt.show()\n",
    "\n",
    "binary  = thresholdingGlobal(digit_pixels,45)\n",
    "binary = erosion(dilatacion(binary,kernel),kernel)\n",
    "\n",
    "plt.imshow(binary, cmap='gray')\n",
    "plt.show()"
   ]
  },
  {
   "cell_type": "code",
   "execution_count": 73,
   "metadata": {},
   "outputs": [],
   "source": [
    "def freeman (cadena):\n",
    "    cadena,coordenadas  =  trace_boundary(binary)\n",
    "    normal = minimum_circular_shift(cadena)\n",
    "    #print(normal)\n",
    "    transform =  first_difference(normal,8)\n",
    "    return transform\n",
    " \n",
    "def conteo (cadena):\n",
    "    conteo = {num: cadena.count(num) for num in range(10)}\n",
    "    resultado = [conteo.get(num, 0) for num in range(10)]\n",
    "    resultado.append(len(cadena))\n",
    "    #print(resultado)\n",
    "    return resultado\n",
    "\n",
    "kernel = np.ones((3, 3))"
   ]
  },
  {
   "cell_type": "code",
   "execution_count": 74,
   "metadata": {},
   "outputs": [
    {
     "name": "stdout",
     "output_type": "stream",
     "text": [
      "102\n",
      "26\n"
     ]
    }
   ],
   "source": [
    "x,y=loadDataset(\"Nmist/mnist_test_copy.csv\",1000)\n",
    "\n",
    "longitudes = []\n",
    "resultados_transform = [] \n",
    "for indice in range(1000):\n",
    "    digit = x[indice]\n",
    "    digit_pixels = digit.reshape(28, 28)\n",
    "    binary  = thresholdingGlobal(digit_pixels,10)\n",
    "    binary = erosion(dilatacion(binary,kernel),kernel)\n",
    "    transform = freeman(binary)\n",
    "    resultados_transform.append(conteo(transform))\n",
    "    #resultados_transform.append(len(transform))\n",
    "    #print(resultados_transform)\n",
    "    #print(transform)\n",
    "    longitudes.append(len(transform))\n",
    "dataset = np.column_stack((resultados_transform, y))\n",
    "df = pd.DataFrame(dataset, columns= [f'Repeticiones_{i}' for i in range(10)] +['Tamaño']+ ['Label'])\n",
    "df.to_csv('freeman.csv', index=False)\n",
    "df\n",
    "\n",
    "\n",
    "print(max(longitudes))\n",
    "print(min(longitudes))\n"
   ]
  },
  {
   "cell_type": "code",
   "execution_count": 65,
   "metadata": {},
   "outputs": [
    {
     "name": "stdout",
     "output_type": "stream",
     "text": [
      "Precisión del modelo: 0.42333333333333334\n",
      "              precision    recall  f1-score   support\n",
      "\n",
      "           0       0.48      0.66      0.55        32\n",
      "           1       0.95      0.95      0.95        39\n",
      "           2       0.30      0.47      0.36        30\n",
      "           3       0.24      0.28      0.26        32\n",
      "           4       0.47      0.47      0.47        36\n",
      "           5       0.33      0.14      0.19        22\n",
      "           6       0.23      0.24      0.24        25\n",
      "           7       0.40      0.17      0.24        35\n",
      "           8       0.22      0.17      0.20        23\n",
      "           9       0.34      0.38      0.36        26\n",
      "\n",
      "    accuracy                           0.42       300\n",
      "   macro avg       0.40      0.39      0.38       300\n",
      "weighted avg       0.42      0.42      0.41       300\n",
      "\n"
     ]
    }
   ],
   "source": [
    "from sklearn.model_selection import train_test_split\n",
    "\n",
    "X = df.drop('Label', axis=1)\n",
    "y = df['Label']\n",
    "\n",
    "X_train, X_test, y_train, y_test = train_test_split(X, y, test_size=0.3, random_state=42)\n",
    "\n",
    "from sklearn.neighbors import KNeighborsClassifier\n",
    "\n",
    "knn = KNeighborsClassifier(n_neighbors=10)  # Puedes ajustar el valor de k\n",
    "\n",
    "# Entrenar el modelo con los datos de entrenamiento\n",
    "knn.fit(X_train, y_train)\n",
    "# Predecir etiquetas en el conjunto de prueba\n",
    "y_pred = knn.predict(X_test)\n",
    "\n",
    "# Evaluar el rendimiento del modelo (por ejemplo, utilizando la precisión)\n",
    "from sklearn.metrics import accuracy_score, classification_report\n",
    "\n",
    "accuracy = accuracy_score(y_test, y_pred)\n",
    "report = classification_report(y_test, y_pred)\n",
    "\n",
    "print(f'Precisión del modelo: {accuracy}')\n",
    "print(report)"
   ]
  },
  {
   "cell_type": "code",
   "execution_count": 67,
   "metadata": {},
   "outputs": [
    {
     "name": "stdout",
     "output_type": "stream",
     "text": [
      "Precisión del modelo: 0.4\n",
      "              precision    recall  f1-score   support\n",
      "\n",
      "           0       0.50      0.71      0.59        24\n",
      "           1       0.96      0.93      0.94        27\n",
      "           2       0.23      0.30      0.26        20\n",
      "           3       0.33      0.26      0.29        23\n",
      "           4       0.35      0.45      0.39        20\n",
      "           5       0.14      0.08      0.10        13\n",
      "           6       0.20      0.22      0.21        18\n",
      "           7       0.33      0.17      0.22        24\n",
      "           8       0.21      0.19      0.20        16\n",
      "           9       0.29      0.33      0.31        15\n",
      "\n",
      "    accuracy                           0.40       200\n",
      "   macro avg       0.36      0.36      0.35       200\n",
      "weighted avg       0.39      0.40      0.39       200\n",
      "\n"
     ]
    }
   ],
   "source": [
    "from Clasificadores import knn\n",
    "knn(df,5)"
   ]
  },
  {
   "cell_type": "code",
   "execution_count": 69,
   "metadata": {},
   "outputs": [
    {
     "name": "stdout",
     "output_type": "stream",
     "text": [
      "Classifying...\n",
      "Classification done!\n",
      "----------------------------------------------------------------------\n",
      "SUMARY: Summary\n",
      "----------------------------------------------------------------------\n",
      "CLASSIF\t\tMEAN\tMEDIAN\tMINV\tMAXV\tSTD\n",
      "----------------------------------------------------------------------\n",
      "SVM_linear      39.24\t39.0\t30.0\t47.5\t3.6\n",
      "----------------------------------------------------------------------\n",
      "\n"
     ]
    }
   ],
   "source": [
    "from Clasificadores import svm_lineal\n",
    "\n",
    "svm_lineal(df)"
   ]
  },
  {
   "cell_type": "code",
   "execution_count": 70,
   "metadata": {},
   "outputs": [
    {
     "name": "stdout",
     "output_type": "stream",
     "text": [
      "Classifying...\n",
      "Classification done!\n",
      "----------------------------------------------------------------------\n",
      "SUMARY: Summary\n",
      "----------------------------------------------------------------------\n",
      "CLASSIF\t\tMEAN\tMEDIAN\tMINV\tMAXV\tSTD\n",
      "----------------------------------------------------------------------\n",
      "SVM_radial      40.79\t40.5\t32.5\t49.5\t3.21\n",
      "----------------------------------------------------------------------\n",
      "\n"
     ]
    }
   ],
   "source": [
    "from Clasificadores import svm_radial\n",
    "\n",
    "svm_radial(df)"
   ]
  },
  {
   "cell_type": "code",
   "execution_count": 80,
   "metadata": {},
   "outputs": [
    {
     "name": "stdout",
     "output_type": "stream",
     "text": [
      "5\n",
      "[0, 0, 0, 1, 7, 0, 1, 7, 1, 7, 0, 1, 7, 6, 6, 1, 7, 0, 1, 7, 1, 7, 1, 7, 0, 0, 1, 0, 1, 0, 1, 1, 7, 7, 0, 0, 7, 1, 0, 7, 0, 5, 0, 7, 0, 1, 0, 0, 0, 1, 1, 0, 6, 1, 6, 0, 1, 0, 6]\n",
      "[0, 0, 0, 1, 7, 0, 1, 7, 1, 7, 0, 1, 7, 6, 6, 1, 7, 0, 1, 7, 1, 7, 1, 7, 0, 0, 1, 0, 1, 0, 1, 1, 7, 7, 0, 0, 7, 1, 0, 7, 0, 5, 0, 7, 0, 1, 0, 0, 0, 1, 1, 0, 6, 1, 6, 0, 1, 0, 6]\n",
      "[0, 0, 0, 1, 7, 0, 1, 7, 1, 7, 0, 1, 7, 6, 6, 1, 7, 0, 1, 7, 1, 7, 1, 7, 0, 0, 1, 0, 1, 0, 1, 1, 7, 7, 0, 0, 7, 1, 0, 7, 0, 5, 0, 7, 0, 1, 0, 0, 0, 1, 1, 0, 6, 1, 6, 0, 1, 0, 6]\n"
     ]
    },
    {
     "data": {
      "image/png": "[encoded data removed]",
      "text/plain": [
       "<Figure size 640x480 with 1 Axes>"
      ]
     },
     "metadata": {},
     "output_type": "display_data"
    }
   ],
   "source": [
    "angulo_rotacion = 268\n",
    "x,y=loadDataset(\"Nmist/mnist_test.csv\",100)\n",
    "indice = 58\n",
    "\n",
    "print(y[indice])\n",
    "digit = x[indice]\n",
    "\n",
    "digit_pixels = digit.reshape(28, 28)\n",
    "digit_pixels = digit_pixels.astype(np.uint8)\n",
    "\n",
    "binary  = thresholdingGlobal(digit_pixels,10)\n",
    "binary = erosion(dilatacion(binary,kernel),kernel)\n",
    "binary2 = escala(binary,2)\n",
    "normal = freeman(binary)\n",
    "print(normal)\n",
    "\n",
    "img = rotar(binary, angulo_rotacion)\n",
    "rotada = freeman(img)\n",
    "print(rotada)\n",
    "\n",
    "\n",
    "binary2 = erosion(dilatacion(binary2,kernel),kernel)\n",
    "normal2 = freeman(binary2)\n",
    "print(normal2)\n",
    "\n",
    "\n",
    "\n",
    "plt.imshow(binary, cmap='gray')\n",
    "plt.show()"
   ]
  }
 ],
 "metadata": {
  "kernelspec": {
   "display_name": "Python 3",
   "language": "python",
   "name": "python3"
  },
  "language_info": {
   "codemirror_mode": {
    "name": "ipython",
    "version": 3
   },
   "file_extension": ".py",
   "mimetype": "text/x-python",
   "name": "python",
   "nbconvert_exporter": "python",
   "pygments_lexer": "ipython3",
   "version": "3.11.2"
  },
  "orig_nbformat": 4
 },
 "nbformat": 4,
 "nbformat_minor": 2
}
