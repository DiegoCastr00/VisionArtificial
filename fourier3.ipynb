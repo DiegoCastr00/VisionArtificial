{
 "cells": [
  {
   "cell_type": "code",
   "execution_count": 230,
   "metadata": {},
   "outputs": [
    {
     "name": "stdout",
     "output_type": "stream",
     "text": [
      "(100, 784)\n"
     ]
    },
    {
     "data": {
      "image/png": "[encoded data removed]",
      "text/plain": [
       "<Figure size 640x480 with 1 Axes>"
      ]
     },
     "metadata": {},
     "output_type": "display_data"
    }
   ],
   "source": [
    "import pandas as pd\n",
    "import numpy as np\n",
    "import matplotlib.pyplot as plt\n",
    "import cv2 \n",
    "from segmentacion.otsu import thresholdOtsu\n",
    "\n",
    "def loadDataset(fileName, samples):\n",
    "    x = []\n",
    "    y = []\n",
    "    train_data = pd.read_csv(fileName)\n",
    "    y = np.array(train_data.iloc[0:samples, 0])\n",
    "    x = np.array(train_data.iloc[0:samples, 1:])\n",
    "    return x,y\n",
    " \n",
    "x,y=loadDataset(\"Nmist/mnist_test.csv\",100)\n",
    "\n",
    "print(x.shape)\n",
    "digit = x[2]\n",
    "digit_pixels = digit.reshape(28, 28)\n",
    "digit_pixels = thresholdOtsu(digit_pixels)\n",
    "digit_pixels = digit_pixels.astype(np.uint8)\n",
    "plt.imshow(digit_pixels, cmap='gray')\n",
    "plt.show()"
   ]
  },
  {
   "cell_type": "code",
   "execution_count": 231,
   "metadata": {},
   "outputs": [
    {
     "data": {
      "text/plain": [
       "<matplotlib.image.AxesImage at 0x1b205fcbf50>"
      ]
     },
     "execution_count": 231,
     "metadata": {},
     "output_type": "execute_result"
    },
    {
     "data": {
      "image/png": "[encoded data removed]",
      "text/plain": [
       "<Figure size 640x480 with 1 Axes>"
      ]
     },
     "metadata": {},
     "output_type": "display_data"
    }
   ],
   "source": [
    "rotated_image_np = np.rot90(digit_pixels, k=180 // 90)\n",
    "plt.imshow(rotated_image_np, cmap='gray')"
   ]
  },
  {
   "cell_type": "code",
   "execution_count": 232,
   "metadata": {},
   "outputs": [
    {
     "name": "stdout",
     "output_type": "stream",
     "text": [
      "(34, 1, 2)\n"
     ]
    }
   ],
   "source": [
    "contours, hierarchy = cv2.findContours(digit_pixels, cv2.RETR_TREE, cv2.CHAIN_APPROX_SIMPLE)\n",
    "print(contours[0].shape)"
   ]
  },
  {
   "cell_type": "code",
   "execution_count": 233,
   "metadata": {},
   "outputs": [
    {
     "name": "stdout",
     "output_type": "stream",
     "text": [
      "(34, 1, 2)\n"
     ]
    }
   ],
   "source": [
    "contours, hierarchy = cv2.findContours(rotated_image_np, cv2.RETR_TREE, cv2.CHAIN_APPROX_SIMPLE)\n",
    "print(contours[0].shape)"
   ]
  },
  {
   "cell_type": "code",
   "execution_count": 234,
   "metadata": {},
   "outputs": [],
   "source": [
    "def fft(x):\n",
    "    x = np.asarray(x, dtype=float)\n",
    "    N = x.shape[0]\n",
    "    if N <= 32:  # Este es un límite arbitrario para la recursión\n",
    "        return np.dot(np.vander(np.exp(-2j * np.pi * np.arange(N) / N), N), x)\n",
    "    else:\n",
    "        X_even = fft(x[::2])\n",
    "        X_odd = fft(x[1::2])\n",
    "        factor = np.exp(-2j * np.pi * np.arange(N) / N)\n",
    "        return np.concatenate([X_even + factor[:N // 2] * X_odd, X_even + factor[N // 2:] * X_odd])"
   ]
  },
  {
   "cell_type": "code",
   "execution_count": 235,
   "metadata": {},
   "outputs": [
    {
     "name": "stdout",
     "output_type": "stream",
     "text": [
      "[(10+14j), (-4-2.220446049250313e-16j), (-2-2j), -4j]\n",
      "[10.+14.j -4. +0.j -2. -2.j  0. -4.j]\n"
     ]
    }
   ],
   "source": [
    "def fft(x):\n",
    "    N = len(x)\n",
    "    if N <= 1:\n",
    "        return x\n",
    "    even = fft(x[::2])\n",
    "    odd = fft(x[1::2])\n",
    "    T = [np.exp(-2j * np.pi * k / N) * odd[k] for k in range(N // 2)]\n",
    "    return [even[k] + T[k] for k in range(N // 2)] + [even[k] - T[k] for k in range(N // 2)]\n",
    "\n",
    "# Ejemplo de uso con números complejos:\n",
    "x = np.array([1+2j, 2+3j, 3+4j, 4+5j])\n",
    "result = fft(x)\n",
    "result2 = np.fft.fft(x)\n",
    "print(result)\n",
    "print(result2)"
   ]
  },
  {
   "cell_type": "code",
   "execution_count": 236,
   "metadata": {},
   "outputs": [],
   "source": [
    "def fft_custom(x):\n",
    "    N = len(x)\n",
    "    if N <= 1:\n",
    "        return x\n",
    "    even = fft_custom(x[::2])\n",
    "    odd = fft_custom(x[1::2])\n",
    "    combined = [0] * N\n",
    "    for m in range(N // 2):\n",
    "        combined[m] = even[m] + np.exp(-2j * np.pi * m / N) * odd[m]\n",
    "        combined[m + N // 2] = even[m] - np.exp(-2j * np.pi * m / N) * odd[m]\n",
    "    return combined"
   ]
  },
  {
   "cell_type": "code",
   "execution_count": 256,
   "metadata": {},
   "outputs": [],
   "source": [
    "def find_fourier_descriptorsRotation(image):\n",
    "    # Encuentra los contornos en la imagen\n",
    "    contours, _ = cv2.findContours(image, cv2.RETR_EXTERNAL, cv2.CHAIN_APPROX_NONE)\n",
    "\n",
    "    # Encuentra el contorno más largo\n",
    "    max_contour = max(contours, key=len)\n",
    "\n",
    "    # Calcula la transformada de Fourier de los contornos\n",
    "    contour_complex = [complex(c[0][0], c[0][1]) for c in max_contour]\n",
    "    fourier_transform = np.fft.fft(contour_complex)\n",
    "    \n",
    "    fourierCh = []\n",
    "    for i in range(2, len(fourier_transform)):\n",
    "        fourierCh = np.append(fourierCh, abs(fourier_transform[i]) / abs(fourier_transform[1]))\n",
    "\n",
    "    return fourierCh"
   ]
  },
  {
   "cell_type": "code",
   "execution_count": 257,
   "metadata": {},
   "outputs": [],
   "source": [
    "n = find_fourier_descriptorsRotation(digit_pixels)\n",
    "r = find_fourier_descriptorsRotation(rotated_image_np)"
   ]
  },
  {
   "cell_type": "code",
   "execution_count": 258,
   "metadata": {},
   "outputs": [
    {
     "name": "stdout",
     "output_type": "stream",
     "text": [
      "[0.61417492 0.34290528 0.21484551 0.16317755 0.13787254 0.12470374\n",
      " 0.0700416  0.04922783 0.04133585 0.06932618 0.06317387 0.06868895\n",
      " 0.02921761 0.00998151 0.06020184 0.03956355 0.01826162 0.02794877\n",
      " 0.03707234 0.08236615 0.07523489 0.08498446 0.084987   0.04606373\n",
      " 0.03052685 0.0694315  0.02875942 0.05795358 0.02537726 0.07916942\n",
      " 0.01263132 0.03934491 0.03117759 0.04277934 0.04686496 0.0258477\n",
      " 0.06666785 0.07178658 0.03518507 0.04346813 0.05353454 0.29585652\n",
      " 0.16654614 0.16252599 8.08080439]\n"
     ]
    }
   ],
   "source": [
    "print(n)"
   ]
  },
  {
   "cell_type": "code",
   "execution_count": 259,
   "metadata": {},
   "outputs": [],
   "source": [
    "r = find_fourier_descriptorsRotation(rotated_image_np)"
   ]
  },
  {
   "cell_type": "code",
   "execution_count": 260,
   "metadata": {},
   "outputs": [
    {
     "name": "stdout",
     "output_type": "stream",
     "text": [
      "[0.61417492 0.34290528 0.21484551 0.16317755 0.13787254 0.12470374\n",
      " 0.0700416  0.04922783 0.04133585 0.06932618 0.06317387 0.06868895\n",
      " 0.02921761 0.00998151 0.06020184 0.03956355 0.01826162 0.02794877\n",
      " 0.03707234 0.08236615 0.07523489 0.08498446 0.084987   0.04606373\n",
      " 0.03052685 0.0694315  0.02875942 0.05795358 0.02537726 0.07916942\n",
      " 0.01263132 0.03934491 0.03117759 0.04277934 0.04686496 0.0258477\n",
      " 0.06666785 0.07178658 0.03518507 0.04346813 0.05353454 0.29585652\n",
      " 0.16654614 0.16252599 8.08080439]\n"
     ]
    }
   ],
   "source": [
    "print(r)"
   ]
  },
  {
   "cell_type": "code",
   "execution_count": 242,
   "metadata": {},
   "outputs": [
    {
     "name": "stdout",
     "output_type": "stream",
     "text": [
      "[False False False False False False False False False False False False\n",
      " False False False False False False False False False False False False\n",
      " False False False False False False False False False False False False\n",
      " False False False False False False False False  True]\n"
     ]
    }
   ],
   "source": [
    "print(n == r)"
   ]
  },
  {
   "cell_type": "code",
   "execution_count": 243,
   "metadata": {},
   "outputs": [
    {
     "name": "stdout",
     "output_type": "stream",
     "text": [
      "Los elementos en la posición 0 no son iguales. n[0] = 0.07938793151434041, r[0] = 0.09447953803140927\n",
      "Los elementos en la posición 1 no son iguales. n[1] = 0.033876082025439264, r[1] = 0.12084664949150704\n",
      "Los elementos en la posición 2 no son iguales. n[2] = 0.2754289071467391, r[2] = 0.34666083407791837\n",
      "Los elementos en la posición 3 no son iguales. n[3] = 0.07748303627184552, r[3] = 0.08172207969517059\n",
      "Los elementos en la posición 4 no son iguales. n[4] = 0.06291904064275446, r[4] = 0.04113569074415556\n",
      "Los elementos en la posición 5 no son iguales. n[5] = 0.24128066279094756, r[5] = 0.25648611908256946\n",
      "Los elementos en la posición 6 no son iguales. n[6] = 0.12240047929864606, r[6] = 0.15249412054342873\n",
      "Los elementos en la posición 7 no son iguales. n[7] = 0.11176250519875727, r[7] = 0.11777694679062212\n",
      "Los elementos en la posición 8 no son iguales. n[8] = 0.22500756556324578, r[8] = 0.30372481779485677\n",
      "Los elementos en la posición 9 no son iguales. n[9] = 0.08241011084005305, r[9] = 0.09567878234161686\n",
      "Los elementos en la posición 10 no son iguales. n[10] = 0.07110733881658597, r[10] = 0.05474108219471745\n",
      "Los elementos en la posición 11 no son iguales. n[11] = 0.12934285917159202, r[11] = 0.1750246478296771\n",
      "Los elementos en la posición 12 no son iguales. n[12] = 0.12089863278602886, r[12] = 0.15801102339757797\n",
      "Los elementos en la posición 13 no son iguales. n[13] = 0.06215750213672356, r[13] = 0.08511716160150275\n",
      "Los elementos en la posición 14 no son iguales. n[14] = 0.13293904475754048, r[14] = 0.14874519696603297\n",
      "Los elementos en la posición 15 no son iguales. n[15] = 0.07062402513313376, r[15] = 0.0739029415088014\n",
      "Los elementos en la posición 16 no son iguales. n[16] = 0.018990271782332167, r[16] = 0.027541630878671442\n",
      "Los elementos en la posición 17 no son iguales. n[17] = 0.14057948051437102, r[17] = 0.17559175983781322\n",
      "Los elementos en la posición 18 no son iguales. n[18] = 0.08867515973719937, r[18] = 0.11772926499224824\n",
      "Los elementos en la posición 19 no son iguales. n[19] = 0.19312943195537044, r[19] = 0.24070087794151998\n",
      "Los elementos en la posición 20 no son iguales. n[20] = 0.3804191496758686, r[20] = 0.4701784638129134\n",
      "Los elementos en la posición 21 no son iguales. n[21] = 0.09396198315952456, r[21] = 0.08172207969517059\n",
      "Los elementos en la posición 22 no son iguales. n[22] = 0.05998562907638496, r[22] = 0.06952217865631315\n",
      "Los elementos en la posición 23 no son iguales. n[23] = 0.07938793151434041, r[23] = 0.09447953803140927\n",
      "Los elementos en la posición 24 no son iguales. n[24] = 0.1252927805088378, r[24] = 0.16539662372623914\n",
      "Los elementos en la posición 25 no son iguales. n[25] = 0.07648438010078232, r[25] = 0.10716802326094524\n",
      "Los elementos en la posición 26 no son iguales. n[26] = 0.07748303627184552, r[26] = 0.08172207969517059\n",
      "Los elementos en la posición 27 no son iguales. n[27] = 0.07065384474163956, r[27] = 0.07386472324774886\n",
      "Los elementos en la posición 28 no son iguales. n[28] = 0.08523041959330098, r[28] = 0.08488272142731326\n",
      "Los elementos en la posición 29 no son iguales. n[29] = 0.12240047929864606, r[29] = 0.15249412054342873\n",
      "Los elementos en la posición 30 no son iguales. n[30] = 0.1105379887262284, r[30] = 0.13607892860380416\n",
      "Los elementos en la posición 31 no son iguales. n[31] = 0.14597244281872887, r[31] = 0.1810102640838153\n",
      "Los elementos en la posición 32 no son iguales. n[32] = 0.08241011084005305, r[32] = 0.09567878234161686\n",
      "Los elementos en la posición 33 no son iguales. n[33] = 0.06527393695064361, r[33] = 0.06889799764245512\n",
      "Los elementos en la posición 34 no son iguales. n[34] = 0.033207933742612626, r[34] = 0.028721915658953875\n",
      "Los elementos en la posición 35 no son iguales. n[35] = 0.12089863278602886, r[35] = 0.15801102339757797\n",
      "Los elementos en la posición 36 no son iguales. n[36] = 0.07004189744357012, r[36] = 0.07100074183583972\n",
      "Los elementos en la posición 37 no son iguales. n[37] = 0.052488624869175625, r[37] = 0.07097076622691934\n",
      "Los elementos en la posición 38 no son iguales. n[38] = 0.07062402513313376, r[38] = 0.0739029415088014\n",
      "Los elementos en la posición 39 no son iguales. n[39] = 0.008588130132159415, r[39] = 0.020067041958884854\n",
      "Los elementos en la posición 40 no son iguales. n[40] = 0.1958905468132109, r[40] = 0.21013295412895983\n",
      "Los elementos en la posición 41 no son iguales. n[41] = 0.08867515973719937, r[41] = 0.11772926499224824\n",
      "Los elementos en la posición 42 no son iguales. n[42] = 0.16807881990106874, r[42] = 0.2348596907988081\n",
      "Los elementos en la posición 43 no son iguales. n[43] = 0.3804191496758686, r[43] = 0.4701784638129134\n"
     ]
    }
   ],
   "source": [
    "tolerancia = 1e-9  # Define la tolerancia deseada\n",
    "\n",
    "for i in range(len(n)):\n",
    "    if abs(n[i] - r[i]) > tolerancia:\n",
    "        print(f\"Los elementos en la posición {i} no son iguales. n[{i}] = {n[i]}, r[{i}] = {r[i]}\")\n"
   ]
  },
  {
   "cell_type": "code",
   "execution_count": 244,
   "metadata": {},
   "outputs": [
    {
     "data": {
      "text/plain": [
       "<matplotlib.image.AxesImage at 0x1b22103c910>"
      ]
     },
     "execution_count": 244,
     "metadata": {},
     "output_type": "execute_result"
    },
    {
     "data": {
      "image/png": "[encoded data removed]",
      "text/plain": [
       "<Figure size 640x480 with 1 Axes>"
      ]
     },
     "metadata": {},
     "output_type": "display_data"
    }
   ],
   "source": [
    "import numpy as np\n",
    "import matplotlib.pyplot as plt\n",
    "\n",
    "def escPeque(img):\n",
    "        new_height = 56\n",
    "        new_width = 56\n",
    "\n",
    "        # Escalar la matriz binaria utilizando interpolación\n",
    "        scaled_matrix = np.zeros((new_height, new_width))\n",
    "\n",
    "        for i in range(new_height):\n",
    "                for j in range(new_width):\n",
    "                        xi = int((i / (new_height - 1)) * (img.shape[0] - 1))\n",
    "                        yi = int((j / (new_width - 1)) * (img.shape[1] - 1))\n",
    "                        x1, x2 = xi, min(xi + 1, img.shape[0] - 1)\n",
    "                        y1, y2 = yi, min(yi + 1, img.shape[1] - 1)  # Corregido 'y' a 'yi'\n",
    "                        dx, dy = xi - x1, yi - y1\n",
    "                        value = (1 - dx) * (1 - dy) * img[x1, y1] + dx * (1 - dy) * img[x2, y1] + \\\n",
    "                                (1 - dx) * dy * img[x1, y2] + dx * dy * img[x2, y2]\n",
    "                        \n",
    "                        scaled_matrix[i, j] = value\n",
    "\n",
    "        # Redondear los valores de la matriz escalada a 0 o 1\n",
    "        scaled_matrix = np.round(scaled_matrix)\n",
    "        scaled_matrix = scaled_matrix.astype(np.uint8)\n",
    "        return scaled_matrix\n",
    "plt.imshow(escPeque(digit_pixels), cmap='gray')\n"
   ]
  },
  {
   "cell_type": "code",
   "execution_count": 245,
   "metadata": {},
   "outputs": [],
   "source": [
    "\n",
    "def find_fourier_descriptorsRotation2(image, desired_contour_length=100):\n",
    "    # Encuentra los contornos en la imagen\n",
    "    contours, _ = cv2.findContours(image, cv2.RETR_EXTERNAL, cv2.CHAIN_APPROX_NONE)\n",
    "\n",
    "    # Encuentra el contorno más largo\n",
    "    max_contour = max(contours, key=len)\n",
    "\n",
    "    # Redimensionar el contorno a una longitud deseada para la normalización de escala\n",
    "    max_contour = cv2.approxPolyDP(max_contour, 0.05 * cv2.arcLength(max_contour, True), True)\n",
    "    contour_length = len(max_contour)\n",
    "    scale_factor = desired_contour_length / contour_length\n",
    "    max_contour = np.array(max_contour) * scale_factor\n",
    "\n",
    "    # Calcula la transformada de Fourier de los contornos normalizados\n",
    "    contour_complex = [complex(c[0][0], c[0][1]) for c in max_contour]\n",
    "    fourier_transform = np.fft.fft(contour_complex)\n",
    "    \n",
    "    fourierCh = []\n",
    "    for i in range(2, len(fourier_transform)):\n",
    "        fourierCh = np.append(fourierCh, abs(fourier_transform[i])/abs(fourier_transform[1]))\n",
    "\n",
    "    return fourierCh"
   ]
  },
  {
   "cell_type": "code",
   "execution_count": 246,
   "metadata": {},
   "outputs": [
    {
     "name": "stdout",
     "output_type": "stream",
     "text": [
      "[0.56309251 5.50166272]\n"
     ]
    }
   ],
   "source": [
    "esc = find_fourier_descriptorsRotation2(escPeque(digit_pixels))\n",
    "print(esc)"
   ]
  },
  {
   "cell_type": "code",
   "execution_count": 247,
   "metadata": {},
   "outputs": [],
   "source": [
    "import cv2\n",
    "import numpy as np\n",
    "import matplotlib.pyplot as plt\n",
    "def escalar(img):\n",
    "    # Supongamos que 'digit_pixels' es la matriz binaria original y 'C' es el factor de escala\n",
    "    C =  4# Factor de escala\n",
    "    scaled_image = np.multiply(img, C)\n",
    "\n",
    "    # Asegúrate de que la imagen escalada esté en el rango adecuado (generalmente 0-255 para imágenes de 8 bits)\n",
    "    scaled_image = np.clip(scaled_image, 0, 255)\n",
    "    scaled_image = scaled_image.astype(np.uint8)\n",
    "    return scaled_image"
   ]
  },
  {
   "cell_type": "code",
   "execution_count": null,
   "metadata": {},
   "outputs": [],
   "source": []
  },
  {
   "cell_type": "code",
   "execution_count": 248,
   "metadata": {},
   "outputs": [
    {
     "name": "stdout",
     "output_type": "stream",
     "text": [
      "[0.07938793 0.03387608 0.27542891 0.07748304 0.06291904 0.24128066\n",
      " 0.12240048 0.11176251 0.22500757 0.08241011 0.07110734 0.12934286\n",
      " 0.12089863 0.0621575  0.13293904 0.07062403 0.01899027 0.14057948\n",
      " 0.08867516 0.19312943 0.38041915 0.09396198 0.05998563 0.07938793\n",
      " 0.12529278 0.07648438 0.07748304 0.07065384 0.08523042 0.12240048\n",
      " 0.11053799 0.14597244 0.08241011 0.06527394 0.03320793 0.12089863\n",
      " 0.0700419  0.05248862 0.07062403 0.00858813 0.19589055 0.08867516\n",
      " 0.16807882 0.38041915 0.        ]\n"
     ]
    }
   ],
   "source": [
    "no = find_fourier_descriptorsRotation(digit_pixels)\n",
    "print(no)"
   ]
  },
  {
   "cell_type": "code",
   "execution_count": 249,
   "metadata": {},
   "outputs": [
    {
     "name": "stdout",
     "output_type": "stream",
     "text": [
      "[0.07938793 0.03387608 0.27542891 0.07748304 0.06291904 0.24128066\n",
      " 0.12240048 0.11176251 0.22500757 0.08241011 0.07110734 0.12934286\n",
      " 0.12089863 0.0621575  0.13293904 0.07062403 0.01899027 0.14057948\n",
      " 0.08867516 0.19312943 0.38041915 0.09396198 0.05998563 0.07938793\n",
      " 0.12529278 0.07648438 0.07748304 0.07065384 0.08523042 0.12240048\n",
      " 0.11053799 0.14597244 0.08241011 0.06527394 0.03320793 0.12089863\n",
      " 0.0700419  0.05248862 0.07062403 0.00858813 0.19589055 0.08867516\n",
      " 0.16807882 0.38041915 0.        ]\n"
     ]
    }
   ],
   "source": [
    "esc = find_fourier_descriptorsRotation(escalar(digit_pixels))\n",
    "print(esc)"
   ]
  },
  {
   "cell_type": "code",
   "execution_count": 250,
   "metadata": {},
   "outputs": [
    {
     "ename": "IndexError",
     "evalue": "index 70 is out of bounds for axis 0 with size 4",
     "output_type": "error",
     "traceback": [
      "\u001b[1;31m---------------------------------------------------------------------------\u001b[0m",
      "\u001b[1;31mIndexError\u001b[0m                                Traceback (most recent call last)",
      "\u001b[1;32md:\\Repositorios\\VisionArtificial\\fourier3.ipynb Celda 22\u001b[0m line \u001b[0;36m7\n\u001b[0;32m      <a href='vscode-notebook-cell:/d%3A/Repositorios/VisionArtificial/fourier3.ipynb#X20sZmlsZQ%3D%3D?line=4'>5</a>\u001b[0m i \u001b[39m=\u001b[39m \u001b[39m0\u001b[39m\n\u001b[0;32m      <a href='vscode-notebook-cell:/d%3A/Repositorios/VisionArtificial/fourier3.ipynb#X20sZmlsZQ%3D%3D?line=5'>6</a>\u001b[0m \u001b[39mfor\u001b[39;00m p \u001b[39min\u001b[39;00m pos:\n\u001b[1;32m----> <a href='vscode-notebook-cell:/d%3A/Repositorios/VisionArtificial/fourier3.ipynb#X20sZmlsZQ%3D%3D?line=6'>7</a>\u001b[0m     digit \u001b[39m=\u001b[39m x[p]  \u001b[39m# Asumiendo que x es la variable que contiene tus datos\u001b[39;00m\n\u001b[0;32m      <a href='vscode-notebook-cell:/d%3A/Repositorios/VisionArtificial/fourier3.ipynb#X20sZmlsZQ%3D%3D?line=7'>8</a>\u001b[0m     digit_pixels \u001b[39m=\u001b[39m digit\u001b[39m.\u001b[39mreshape(\u001b[39m28\u001b[39m, \u001b[39m28\u001b[39m)\n\u001b[0;32m      <a href='vscode-notebook-cell:/d%3A/Repositorios/VisionArtificial/fourier3.ipynb#X20sZmlsZQ%3D%3D?line=8'>9</a>\u001b[0m     digit_pixels \u001b[39m=\u001b[39m thresholdOtsu(digit_pixels)\n",
      "\u001b[1;31mIndexError\u001b[0m: index 70 is out of bounds for axis 0 with size 4"
     ]
    },
    {
     "data": {
      "image/png": "[encoded data removed]",
      "text/plain": [
       "<Figure size 1200x1800 with 30 Axes>"
      ]
     },
     "metadata": {},
     "output_type": "display_data"
    }
   ],
   "source": [
    "pos = [70, 4, 0, 31, 26, 14, 53, 33, 60, 61]\n",
    "\n",
    "# Código para crear gráficos\n",
    "fig, axs = plt.subplots(10, 3, figsize=(12, 18))\n",
    "i = 0\n",
    "for p in pos:\n",
    "    digit = x[p]  # Asumiendo que x es la variable que contiene tus datos\n",
    "    digit_pixels = digit.reshape(28, 28)\n",
    "    digit_pixels = thresholdOtsu(digit_pixels)\n",
    "    digit_pixels = digit_pixels.astype(np.uint8)\n",
    "    \n",
    "    axs[i, 0].imshow(digit_pixels, cmap='binary')\n",
    "    \n",
    "    rotated_image_np = np.rot90(digit_pixels, k=180 // 90)\n",
    "    axs[i, 1].imshow(rotated_image_np, cmap='binary')\n",
    "    \n",
    "    axs[i, 2].imshow(escPeque(digit_pixels), cmap='binary')\n",
    "    \n",
    "    i += 1\n",
    "\n",
    "plt.tight_layout()\n",
    "plt.show()\n",
    "\n",
    "'''# Crear una figura y un conjunto de subtramas con un diseño de 9 filas y 3 columnas\n",
    "fig, axs = plt.subplots(9, 3, figsize=(12, 18))\n",
    "\n",
    "# Puedes acceder a cada subtrama individual utilizando un índice de fila y columna\n",
    "# Ejemplo de cómo trazar algo en una subtrama específica\n",
    "axs[0, 0].plot([1, 2, 3, 4], [1, 4, 2, 3])\n",
    "\n",
    "# Ajustar el diseño para evitar superposiciones\n",
    "plt.tight_layout()\n",
    "plt.show()'''"
   ]
  },
  {
   "cell_type": "code",
   "execution_count": 362,
   "metadata": {},
   "outputs": [
    {
     "name": "stderr",
     "output_type": "stream",
     "text": [
      "d:\\Repositorios\\VisionArtificial\\segmentacion\\otsu.py:43: RuntimeWarning: invalid value encountered in scalar divide\n",
      "  m_f = m/sum(f)\n"
     ]
    }
   ],
   "source": [
    "file_name = \"fourier.csv\"\n",
    "\n",
    "# Crear y escribir arrays en un ciclo\n",
    "with open(file_name, \"w\") as file:\n",
    "    for i in range(len(x)):\n",
    "        digit = x[i]\n",
    "        digit_pixels = digit.reshape(28, 28)\n",
    "        digit_pixels = thresholdOtsu(digit_pixels)\n",
    "        digit_pixels = digit_pixels.astype(np.uint8)\n",
    "        arr = find_fourier_descriptorsRotation(digit_pixels)\n",
    "        maxi = max(arr)\n",
    "        diff = abs(maxi - min(arr))\n",
    "        long = len(arr)\n",
    "        prom = np.mean(arr)\n",
    "        line = str(y[i])+ \",\"+ str(maxi)+ \",\"+ str(diff)+ \",\"+ str(long) + \",\"+ str(prom)+ \",\" + \",\".join(map(str, arr)) + \"\\n\"\n",
    "        file.write(line)"
   ]
  },
  {
   "cell_type": "code",
   "execution_count": 363,
   "metadata": {},
   "outputs": [
    {
     "data": {
      "text/html": [
       "<div>\n",
       "<style scoped>\n",
       "    .dataframe tbody tr th:only-of-type {\n",
       "        vertical-align: middle;\n",
       "    }\n",
       "\n",
       "    .dataframe tbody tr th {\n",
       "        vertical-align: top;\n",
       "    }\n",
       "\n",
       "    .dataframe thead th {\n",
       "        text-align: right;\n",
       "    }\n",
       "</style>\n",
       "<table border=\"1\" class=\"dataframe\">\n",
       "  <thead>\n",
       "    <tr style=\"text-align: right;\">\n",
       "      <th></th>\n",
       "      <th>label</th>\n",
       "      <th>Maximo</th>\n",
       "      <th>Rango</th>\n",
       "      <th>longitud</th>\n",
       "      <th>Promedio</th>\n",
       "    </tr>\n",
       "  </thead>\n",
       "  <tbody>\n",
       "    <tr>\n",
       "      <th>0</th>\n",
       "      <td>2</td>\n",
       "      <td>1.511648</td>\n",
       "      <td>1.510192</td>\n",
       "      <td>79</td>\n",
       "      <td>0.063286</td>\n",
       "    </tr>\n",
       "    <tr>\n",
       "      <th>1</th>\n",
       "      <td>1</td>\n",
       "      <td>1.185742</td>\n",
       "      <td>1.181527</td>\n",
       "      <td>38</td>\n",
       "      <td>0.053175</td>\n",
       "    </tr>\n",
       "    <tr>\n",
       "      <th>2</th>\n",
       "      <td>0</td>\n",
       "      <td>8.080804</td>\n",
       "      <td>8.070823</td>\n",
       "      <td>45</td>\n",
       "      <td>0.267147</td>\n",
       "    </tr>\n",
       "    <tr>\n",
       "      <th>3</th>\n",
       "      <td>4</td>\n",
       "      <td>3.711739</td>\n",
       "      <td>3.710619</td>\n",
       "      <td>72</td>\n",
       "      <td>0.190012</td>\n",
       "    </tr>\n",
       "    <tr>\n",
       "      <th>4</th>\n",
       "      <td>1</td>\n",
       "      <td>1.356035</td>\n",
       "      <td>1.353783</td>\n",
       "      <td>36</td>\n",
       "      <td>0.062384</td>\n",
       "    </tr>\n",
       "    <tr>\n",
       "      <th>...</th>\n",
       "      <td>...</td>\n",
       "      <td>...</td>\n",
       "      <td>...</td>\n",
       "      <td>...</td>\n",
       "      <td>...</td>\n",
       "    </tr>\n",
       "    <tr>\n",
       "      <th>995</th>\n",
       "      <td>2</td>\n",
       "      <td>2.219089</td>\n",
       "      <td>2.218340</td>\n",
       "      <td>77</td>\n",
       "      <td>0.088088</td>\n",
       "    </tr>\n",
       "    <tr>\n",
       "      <th>996</th>\n",
       "      <td>0</td>\n",
       "      <td>5.027849</td>\n",
       "      <td>5.021589</td>\n",
       "      <td>53</td>\n",
       "      <td>0.135597</td>\n",
       "    </tr>\n",
       "    <tr>\n",
       "      <th>997</th>\n",
       "      <td>8</td>\n",
       "      <td>91.340773</td>\n",
       "      <td>91.329579</td>\n",
       "      <td>56</td>\n",
       "      <td>3.172574</td>\n",
       "    </tr>\n",
       "    <tr>\n",
       "      <th>998</th>\n",
       "      <td>9</td>\n",
       "      <td>3.491310</td>\n",
       "      <td>3.489216</td>\n",
       "      <td>48</td>\n",
       "      <td>0.154493</td>\n",
       "    </tr>\n",
       "    <tr>\n",
       "      <th>999</th>\n",
       "      <td>9</td>\n",
       "      <td>1.681837</td>\n",
       "      <td>1.678159</td>\n",
       "      <td>43</td>\n",
       "      <td>0.085018</td>\n",
       "    </tr>\n",
       "  </tbody>\n",
       "</table>\n",
       "<p>1000 rows × 5 columns</p>\n",
       "</div>"
      ],
      "text/plain": [
       "     label     Maximo      Rango  longitud  Promedio\n",
       "0        2   1.511648   1.510192        79  0.063286\n",
       "1        1   1.185742   1.181527        38  0.053175\n",
       "2        0   8.080804   8.070823        45  0.267147\n",
       "3        4   3.711739   3.710619        72  0.190012\n",
       "4        1   1.356035   1.353783        36  0.062384\n",
       "..     ...        ...        ...       ...       ...\n",
       "995      2   2.219089   2.218340        77  0.088088\n",
       "996      0   5.027849   5.021589        53  0.135597\n",
       "997      8  91.340773  91.329579        56  3.172574\n",
       "998      9   3.491310   3.489216        48  0.154493\n",
       "999      9   1.681837   1.678159        43  0.085018\n",
       "\n",
       "[1000 rows x 5 columns]"
      ]
     },
     "metadata": {},
     "output_type": "display_data"
    }
   ],
   "source": [
    "import pandas as pd\n",
    "file_path = 'fourier.csv'\n",
    "column_names = ['label', 'Maximo', 'Rango','longitud', 'Promedio'] \n",
    "df = pd.read_csv(file_path, usecols=range(5),header=None, names=column_names)\n",
    "\n",
    "display(df)"
   ]
  },
  {
   "cell_type": "code",
   "execution_count": 383,
   "metadata": {},
   "outputs": [
    {
     "name": "stdout",
     "output_type": "stream",
     "text": [
      "Precisión del modelo: 0.46119402985074626\n",
      "              precision    recall  f1-score   support\n",
      "\n",
      "           0       0.83      0.73      0.78        62\n",
      "           1       0.88      0.96      0.92        84\n",
      "           2       0.29      0.53      0.38        72\n",
      "           3       0.28      0.37      0.32        71\n",
      "           4       0.53      0.56      0.55        75\n",
      "           5       0.34      0.22      0.27        54\n",
      "           6       0.05      0.02      0.02        62\n",
      "           7       0.31      0.27      0.29        63\n",
      "           8       0.38      0.16      0.22        64\n",
      "           9       0.42      0.59      0.49        63\n",
      "\n",
      "    accuracy                           0.46       670\n",
      "   macro avg       0.43      0.44      0.42       670\n",
      "weighted avg       0.45      0.46      0.44       670\n",
      "\n"
     ]
    }
   ],
   "source": [
    "from sklearn.model_selection import train_test_split\n",
    "\n",
    "X = df.drop('label', axis=1)\n",
    "y = df['label']\n",
    "\n",
    "X_train, X_test, y_train, y_test = train_test_split(X, y, test_size=0.67, random_state=56)\n",
    "\n",
    "from sklearn.neighbors import KNeighborsClassifier\n",
    "\n",
    "knn = KNeighborsClassifier(n_neighbors=9)  # Puedes ajustar el valor de k\n",
    "\n",
    "# Entrenar el modelo con los datos de entrenamiento\n",
    "knn.fit(X_train, y_train)\n",
    "# Predecir etiquetas en el conjunto de prueba\n",
    "y_pred = knn.predict(X_test)\n",
    "\n",
    "# Evaluar el rendimiento del modelo (por ejemplo, utilizando la precisión)\n",
    "from sklearn.metrics import accuracy_score, classification_report\n",
    "\n",
    "accuracy = accuracy_score(y_test, y_pred)\n",
    "report = classification_report(y_test, y_pred)\n",
    "\n",
    "print(f'Precisión del modelo: {accuracy}')\n",
    "print(report)\n"
   ]
  },
  {
   "cell_type": "code",
   "execution_count": 384,
   "metadata": {},
   "outputs": [
    {
     "name": "stdout",
     "output_type": "stream",
     "text": [
      "Classifying...\n",
      "Classification done!\n",
      "----------------------------------------------------------------------\n",
      "SUMARY: Summary\n",
      "----------------------------------------------------------------------\n",
      "CLASSIF\t\tMEAN\tMEDIAN\tMINV\tMAXV\tSTD\n",
      "----------------------------------------------------------------------\n",
      "SVM_radial      47.9\t47.5\t38.5\t59.0\t3.87\n",
      "----------------------------------------------------------------------\n",
      "\n"
     ]
    }
   ],
   "source": [
    "import os\n",
    "import cv2\n",
    "import numpy as np\n",
    "import pandas as pd\n",
    "from sklearn.svm import SVC as SVM\n",
    "from sklearn.preprocessing import StandardScaler\n",
    "from sklearn.neighbors import NearestCentroid as NC\n",
    "from sklearn.model_selection import train_test_split as data_split\n",
    "from sklearn.discriminant_analysis import LinearDiscriminantAnalysis as LDA\n",
    "from sklearn.discriminant_analysis import QuadraticDiscriminantAnalysis as QDA\n",
    "\n",
    "classifiers = {\n",
    "\t# \"NC\"         : NC(),\n",
    "\t#\"LDA\"        : LDA(),\n",
    "\t# \"QDA\"        : QDA(),\n",
    "\t#\"SVM_linear\" : SVM(kernel=\"linear\"),\n",
    "\t \"SVM_radial\" : SVM(kernel=\"rbf\")\n",
    "}\n",
    "\n",
    "def classification(data_file, rounds=100, remove_disperse=[]):\n",
    "\tdf_copy = data_file.copy() \n",
    "\t\n",
    "\tif remove_disperse:\n",
    "\t\tdf_copy = df_copy.drop(remove_disperse, axis=1)\n",
    "\t\n",
    "\tX = df_copy.drop('label', axis=1)\n",
    "\ty = df_copy['label']\n",
    "\t\n",
    "\tans = {key: {\"score\" : []} for key, value in classifiers.items()}\n",
    "\t\n",
    "\tprint(\"Classifying...\")\n",
    "\t\n",
    "\tfor i in range(rounds):\n",
    "\t\tX_train, X_test, y_train, y_test = data_split(X, y, test_size=0.2)\n",
    "\t\t\n",
    "\t\tfor name, classifier in classifiers.items():\n",
    "\t\t\tscaler = StandardScaler()\n",
    "\t\t\tscaler.fit(X_train)\n",
    "\t\t\tX_train = scaler.transform(X_train)\n",
    "\t\t\tX_test = scaler.transform(X_test)\n",
    "\t\t\t\n",
    "\t\t\tclassifier.fit(X_train, y_train)\n",
    "\t\t\tscore = classifier.score(X_test, y_test)\n",
    "\t\t\t\n",
    "\t\t\tans[name][\"score\"].append(score)\n",
    "\t\t\n",
    "\tprint(\"Classification done!\")\n",
    "\t\n",
    "\treturn ans\n",
    "\n",
    "ans = classification(df)\n",
    "\n",
    "def sumary(ans, title=\"Summary\"):\n",
    "\tsize = 70\n",
    "\tseparator = \"-\"\n",
    "\t\n",
    "\tprint(separator*size)\n",
    "\tprint(\"SUMARY: {}\".format(title))\n",
    "\tprint(separator*size)\n",
    "\tprint(\"CLASSIF\\t\\tMEAN\\tMEDIAN\\tMINV\\tMAXV\\tSTD\")\n",
    "\tprint(separator*size)\n",
    "\t\n",
    "\tfor n in ans:\n",
    "\t\tm = round(np.mean(ans[n][\"score\"])*100, 2)\n",
    "\t\tmed = round(np.median(ans[n][\"score\"])*100, 2)\n",
    "\t\tminv = round(np.min(ans[n][\"score\"])*100, 2)\n",
    "\t\tmaxv = round(np.max(ans[n][\"score\"])*100, 2)\n",
    "\t\tstd = round(np.std(ans[n][\"score\"])*100, 2)\n",
    "\t\t\n",
    "\t\tprint(\"{:<16}{}\\t{}\\t{}\\t{}\\t{}\".format(n, m, med, minv, maxv, std))\n",
    "\t\n",
    "\tprint(separator*size)\n",
    "\tprint()\n",
    "\n",
    "sumary(ans)"
   ]
  },
  {
   "cell_type": "code",
   "execution_count": 385,
   "metadata": {},
   "outputs": [
    {
     "name": "stdout",
     "output_type": "stream",
     "text": [
      "Classifying...\n",
      "Classification done!\n",
      "----------------------------------------------------------------------\n",
      "SUMARY: Summary\n",
      "----------------------------------------------------------------------\n",
      "CLASSIF\t\tMEAN\tMEDIAN\tMINV\tMAXV\tSTD\n",
      "----------------------------------------------------------------------\n",
      "SVM_linear      46.38\t46.0\t37.0\t55.0\t3.08\n",
      "----------------------------------------------------------------------\n",
      "\n"
     ]
    }
   ],
   "source": [
    "import os\n",
    "import cv2\n",
    "import numpy as np\n",
    "import pandas as pd\n",
    "from sklearn.svm import SVC as SVM\n",
    "from sklearn.preprocessing import StandardScaler\n",
    "from sklearn.neighbors import NearestCentroid as NC\n",
    "from sklearn.model_selection import train_test_split as data_split\n",
    "from sklearn.discriminant_analysis import LinearDiscriminantAnalysis as LDA\n",
    "from sklearn.discriminant_analysis import QuadraticDiscriminantAnalysis as QDA\n",
    "\n",
    "classifiers = {\n",
    "\t# \"NC\"         : NC(),\n",
    "\t#\"LDA\"        : LDA(),\n",
    "\t# \"QDA\"        : QDA(),\n",
    "\t\"SVM_linear\" : SVM(kernel=\"linear\"),\n",
    "\t#\"SVM_radial\" : SVM(kernel=\"rbf\")\n",
    "}\n",
    "\n",
    "def classification(data_file, rounds=100, remove_disperse=[]):\n",
    "\tdf_copy = data_file.copy() \n",
    "\t\n",
    "\tif remove_disperse:\n",
    "\t\tdf_copy = df_copy.drop(remove_disperse, axis=1)\n",
    "\t\n",
    "\tX = df_copy.drop('label', axis=1)\n",
    "\ty = df_copy['label']\n",
    "\t\n",
    "\tans = {key: {\"score\" : []} for key, value in classifiers.items()}\n",
    "\t\n",
    "\tprint(\"Classifying...\")\n",
    "\t\n",
    "\tfor i in range(rounds):\n",
    "\t\tX_train, X_test, y_train, y_test = data_split(X, y, test_size=0.2)\n",
    "\t\t\n",
    "\t\tfor name, classifier in classifiers.items():\n",
    "\t\t\tscaler = StandardScaler()\n",
    "\t\t\tscaler.fit(X_train)\n",
    "\t\t\tX_train = scaler.transform(X_train)\n",
    "\t\t\tX_test = scaler.transform(X_test)\n",
    "\t\t\t\n",
    "\t\t\tclassifier.fit(X_train, y_train)\n",
    "\t\t\tscore = classifier.score(X_test, y_test)\n",
    "\t\t\t\n",
    "\t\t\tans[name][\"score\"].append(score)\n",
    "\t\t\n",
    "\tprint(\"Classification done!\")\n",
    "\t\n",
    "\treturn ans\n",
    "\n",
    "ans = classification(df)\n",
    "\n",
    "def sumary(ans, title=\"Summary\"):\n",
    "\tsize = 70\n",
    "\tseparator = \"-\"\n",
    "\t\n",
    "\tprint(separator*size)\n",
    "\tprint(\"SUMARY: {}\".format(title))\n",
    "\tprint(separator*size)\n",
    "\tprint(\"CLASSIF\\t\\tMEAN\\tMEDIAN\\tMINV\\tMAXV\\tSTD\")\n",
    "\tprint(separator*size)\n",
    "\t\n",
    "\tfor n in ans:\n",
    "\t\tm = round(np.mean(ans[n][\"score\"])*100, 2)\n",
    "\t\tmed = round(np.median(ans[n][\"score\"])*100, 2)\n",
    "\t\tminv = round(np.min(ans[n][\"score\"])*100, 2)\n",
    "\t\tmaxv = round(np.max(ans[n][\"score\"])*100, 2)\n",
    "\t\tstd = round(np.std(ans[n][\"score\"])*100, 2)\n",
    "\t\t\n",
    "\t\tprint(\"{:<16}{}\\t{}\\t{}\\t{}\\t{}\".format(n, m, med, minv, maxv, std))\n",
    "\t\n",
    "\tprint(separator*size)\n",
    "\tprint()\n",
    "\n",
    "sumary(ans)"
   ]
  },
  {
   "cell_type": "code",
   "execution_count": null,
   "metadata": {},
   "outputs": [
    {
     "name": "stdout",
     "output_type": "stream",
     "text": [
      "Precisión del modelo: 0.60\n"
     ]
    }
   ],
   "source": [
    "from sklearn.model_selection import train_test_split\n",
    "from sklearn.neighbors import KNeighborsClassifier\n",
    "from sklearn.metrics import accuracy_score\n",
    "\n",
    "X = df.iloc[:, 1:]  # Selecciona todas las columnas excepto la primera\n",
    "y = df.iloc[:, 0]   # Selecciona la primera columna como etiquetas\n",
    "\n",
    "# Dividir los datos en conjuntos de entrenamiento y prueba\n",
    "X_train, X_test, y_train, y_test = train_test_split(X, y, test_size=0.2, random_state=42)\n",
    "\n",
    "# Inicializa el clasificador k-NN\n",
    "knn = KNeighborsClassifier(n_neighbors=10)  # Puedes ajustar el valor de 'n_neighbors'\n",
    "\n",
    "# Entrena el modelo con los datos de entrenamiento\n",
    "knn.fit(X_train, y_train)\n",
    "\n",
    "# Predice las etiquetas para el conjunto de pruebas\n",
    "y_pred = knn.predict(X_test)\n",
    "\n",
    "# Evalúa la precisión del modelo\n",
    "accuracy = accuracy_score(y_test, y_pred)\n",
    "print(f'Precisión del modelo: {accuracy:.2f}')"
   ]
  },
  {
   "cell_type": "code",
   "execution_count": null,
   "metadata": {},
   "outputs": [
    {
     "name": "stderr",
     "output_type": "stream",
     "text": [
      "c:\\Users\\Daphne\\AppData\\Local\\Programs\\Python\\Python311\\Lib\\site-packages\\sklearn\\cluster\\_kmeans.py:1416: FutureWarning: The default value of `n_init` will change from 10 to 'auto' in 1.4. Set the value of `n_init` explicitly to suppress the warning\n",
      "  super()._check_params_vs_input(X, default_n_init=10)\n"
     ]
    },
    {
     "name": "stdout",
     "output_type": "stream",
     "text": [
      "Puntuación de silueta: 0.54\n"
     ]
    }
   ],
   "source": [
    "from sklearn.cluster import KMeans\n",
    "from sklearn.metrics import silhouette_score\n",
    "\n",
    "X = df.iloc[:, 1:] \n",
    "\n",
    "num_clusters = 10  \n",
    "kmeans = KMeans(n_clusters=num_clusters, random_state=42)\n",
    "\n",
    "# Ajusta el modelo a los datos\n",
    "kmeans.fit(X)\n",
    "\n",
    "# Predice los clústeres para los datos\n",
    "y_pred = kmeans.predict(X)\n",
    "\n",
    "# Calcula la puntuación de silueta para evaluar la calidad del modelo\n",
    "silhouette_avg = silhouette_score(X, y_pred)\n",
    "print(f\"Puntuación de silueta: {silhouette_avg:.2f}\")"
   ]
  }
 ],
 "metadata": {
  "kernelspec": {
   "display_name": "Python 3",
   "language": "python",
   "name": "python3"
  },
  "language_info": {
   "codemirror_mode": {
    "name": "ipython",
    "version": 3
   },
   "file_extension": ".py",
   "mimetype": "text/x-python",
   "name": "python",
   "nbconvert_exporter": "python",
   "pygments_lexer": "ipython3",
   "version": "3.11.3"
  }
 },
 "nbformat": 4,
 "nbformat_minor": 2
}
